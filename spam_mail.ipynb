{
 "cells": [
  {
   "cell_type": "code",
   "execution_count": 5,
   "id": "61388ce6-9f31-4d14-a8db-81b1fc9baf46",
   "metadata": {},
   "outputs": [
    {
     "name": "stdout",
     "output_type": "stream",
     "text": [
      "  label                                            message\n",
      "0   ham  Go until jurong point, crazy.. Available only ...\n",
      "1   ham                      Ok lar... Joking wif u oni...\n",
      "2  spam  Free entry in 2 a wkly comp to win FA Cup fina...\n",
      "3   ham  U dun say so early hor... U c already then say...\n",
      "4   ham  Nah I don't think he goes to usf, he lives aro...\n"
     ]
    }
   ],
   "source": [
    "import zipfile\n",
    "import urllib.request\n",
    "import pandas as pd\n",
    "\n",
    "# Step 1: Download the dataset from the URL\n",
    "url = \"https://archive.ics.uci.edu/ml/machine-learning-databases/00228/smsspamcollection.zip\"\n",
    "urllib.request.urlretrieve(url, \"smsspamcollection.zip\")\n",
    "\n",
    "# Step 2: Unzip the file\n",
    "with zipfile.ZipFile(\"smsspamcollection.zip\", 'r') as zip_ref:\n",
    "    zip_ref.extractall(\"smsspamcollection\")\n",
    "\n",
    "# Step 3: Load the SMS Spam Collection dataset (SMSSpamCollection file)\n",
    "# The dataset is inside the 'smsspamcollection' folder, and we need to load the 'SMSSpamCollection' file\n",
    "df = pd.read_csv(\"smsspamcollection/SMSSpamCollection\", sep='\\t', names=['label', 'message'])\n",
    "\n",
    "# Step 4: Display the first few rows of the dataframe to check the content\n",
    "print(df.head())\n"
   ]
  },
  {
   "cell_type": "code",
   "execution_count": 7,
   "id": "fce4489e-ab8d-42d6-a8cc-b99c258a95ae",
   "metadata": {},
   "outputs": [
    {
     "name": "stderr",
     "output_type": "stream",
     "text": [
      "[nltk_data] Downloading package stopwords to\n",
      "[nltk_data]     C:\\Users\\maham\\AppData\\Roaming\\nltk_data...\n",
      "[nltk_data]   Package stopwords is already up-to-date!\n"
     ]
    },
    {
     "name": "stdout",
     "output_type": "stream",
     "text": [
      "Accuracy: 0.9719\n",
      "Classification Report:\n",
      "              precision    recall  f1-score   support\n",
      "\n",
      "         ham       0.97      1.00      0.98      1448\n",
      "        spam       0.97      0.81      0.89       224\n",
      "\n",
      "    accuracy                           0.97      1672\n",
      "   macro avg       0.97      0.90      0.93      1672\n",
      "weighted avg       0.97      0.97      0.97      1672\n",
      "\n",
      "Confusion Matrix:\n",
      "[[1443    5]\n",
      " [  42  182]]\n"
     ]
    },
    {
     "data": {
      "image/png": "[encoded data removed]",
      "text/plain": [
       "<Figure size 640x480 with 2 Axes>"
      ]
     },
     "metadata": {},
     "output_type": "display_data"
    },
    {
     "name": "stdout",
     "output_type": "stream",
     "text": [
      "Message: Free money! Call now to claim your prize.\n",
      "Predicted Label: spam\n",
      "\n",
      "Message: Hey, are we still meeting at the cafe later?\n",
      "Predicted Label: ham\n",
      "\n"
     ]
    }
   ],
   "source": [
    "import pandas as pd\n",
    "import numpy as np\n",
    "import re\n",
    "import nltk\n",
    "from nltk.corpus import stopwords\n",
    "from sklearn.feature_extraction.text import TfidfVectorizer\n",
    "from sklearn.model_selection import train_test_split\n",
    "from sklearn.naive_bayes import MultinomialNB\n",
    "from sklearn.metrics import accuracy_score, classification_report, confusion_matrix\n",
    "import matplotlib.pyplot as plt\n",
    "import seaborn as sns\n",
    "\n",
    "# Download necessary NLTK resources\n",
    "nltk.download('stopwords')\n",
    "\n",
    "# Step 1: Download and unzip the dataset (already done above)\n",
    "# Step 2: Load the dataset\n",
    "df = pd.read_csv(\"smsspamcollection/SMSSpamCollection\", sep='\\t', names=['label', 'message'])\n",
    "\n",
    "# Step 3: Data Preprocessing\n",
    "# Clean text: remove non-alphabetic characters and convert to lowercase\n",
    "def clean_text(text):\n",
    "    text = re.sub(r'http\\S+', '', text)  # Remove URLs\n",
    "    text = re.sub(r'@\\S+', '', text)  # Remove mentions\n",
    "    text = re.sub(r'[^a-zA-Z\\s]', '', text)  # Remove non-alphabetic characters\n",
    "    text = text.lower()  # Convert to lowercase\n",
    "    return text\n",
    "\n",
    "# Apply text cleaning\n",
    "df['cleaned_message'] = df['message'].apply(clean_text)\n",
    "\n",
    "# Step 4: Tokenization and Stopword Removal\n",
    "stop_words = set(stopwords.words('english'))\n",
    "\n",
    "# Tokenize the text and remove stopwords\n",
    "def tokenize_and_remove_stopwords(text):\n",
    "    tokens = text.split()\n",
    "    return ' '.join([word for word in tokens if word not in stop_words])\n",
    "\n",
    "df['processed_message'] = df['cleaned_message'].apply(tokenize_and_remove_stopwords)\n",
    "\n",
    "# Step 5: Feature Extraction using TF-IDF\n",
    "vectorizer = TfidfVectorizer(max_features=500)\n",
    "X = vectorizer.fit_transform(df['processed_message'])\n",
    "\n",
    "# Step 6: Train-Test Split\n",
    "y = df['label']\n",
    "X_train, X_test, y_train, y_test = train_test_split(X, y, test_size=0.3, random_state=42)\n",
    "\n",
    "# Step 7: Model Training (Naive Bayes)\n",
    "model = MultinomialNB()\n",
    "model.fit(X_train, y_train)\n",
    "\n",
    "# Step 8: Model Evaluation\n",
    "y_pred = model.predict(X_test)\n",
    "\n",
    "# Accuracy\n",
    "accuracy = accuracy_score(y_test, y_pred)\n",
    "print(f\"Accuracy: {accuracy:.4f}\")\n",
    "\n",
    "# Classification Report\n",
    "print(\"Classification Report:\")\n",
    "print(classification_report(y_test, y_pred))\n",
    "\n",
    "# Confusion Matrix\n",
    "print(\"Confusion Matrix:\")\n",
    "conf_matrix = confusion_matrix(y_test, y_pred)\n",
    "print(conf_matrix)\n",
    "\n",
    "# Visualize Confusion Matrix\n",
    "sns.heatmap(conf_matrix, annot=True, fmt=\"d\", cmap=\"Blues\", xticklabels=['ham', 'spam'], yticklabels=['ham', 'spam'])\n",
    "plt.ylabel('True Label')\n",
    "plt.xlabel('Predicted Label')\n",
    "plt.title('Confusion Matrix')\n",
    "plt.show()\n",
    "\n",
    "# Step 9: Testing the Model with New Data\n",
    "new_messages = [\n",
    "    \"Free money! Call now to claim your prize.\",\n",
    "    \"Hey, are we still meeting at the cafe later?\"\n",
    "]\n",
    "\n",
    "# Preprocess and predict spam/ham for new messages\n",
    "new_messages_cleaned = [clean_text(msg) for msg in new_messages]\n",
    "new_messages_processed = [tokenize_and_remove_stopwords(msg) for msg in new_messages_cleaned]\n",
    "new_messages_vectorized = vectorizer.transform(new_messages_processed)\n",
    "\n",
    "# Predict spam/ham for new messages\n",
    "predicted_labels = model.predict(new_messages_vectorized)\n",
    "\n",
    "# Output predictions\n",
    "for msg, label in zip(new_messages, predicted_labels):\n",
    "    print(f\"Message: {msg}\")\n",
    "    print(f\"Predicted Label: {label}\\n\")\n"
   ]
  },
  {
   "cell_type": "code",
   "execution_count": null,
   "id": "6fc6b31f-712e-45f9-af16-45583aa9852f",
   "metadata": {},
   "outputs": [],
   "source": []
  }
 ],
 "metadata": {
  "kernelspec": {
   "display_name": "Python 3 (ipykernel)",
   "language": "python",
   "name": "python3"
  },
  "language_info": {
   "codemirror_mode": {
    "name": "ipython",
    "version": 3
   },
   "file_extension": ".py",
   "mimetype": "text/x-python",
   "name": "python",
   "nbconvert_exporter": "python",
   "pygments_lexer": "ipython3",
   "version": "3.12.4"
  }
 },
 "nbformat": 4,
 "nbformat_minor": 5
}
